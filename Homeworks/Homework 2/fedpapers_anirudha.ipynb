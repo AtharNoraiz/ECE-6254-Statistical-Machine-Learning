{
 "cells": [
  {
   "cell_type": "code",
   "execution_count": 17,
   "metadata": {},
   "outputs": [
    {
     "name": "stdout",
     "output_type": "stream",
     "text": [
      "Total no. of papers:  85\n",
      "By Hamilton:  51\n",
      "By Madison:  17\n",
      "Disputed :  12\n"
     ]
    }
   ],
   "source": [
    "import numpy as np\n",
    "import json\n",
    "from sklearn.feature_extraction import text\n",
    "x = open('fedpapers_split.txt').read()\n",
    "papers = json.loads(x)    \n",
    "papersH = papers[0] # papers by Hamilton \n",
    "papersM = papers[1] # papers by Madison\n",
    "papersD = papers[2] # disputed papers\n",
    "nH, nM, nD = len(papersH), len(papersM), len(papersD)\n",
    "print(\"Total no. of papers: \",85)\n",
    "print(\"By Hamilton: \",nH)\n",
    "print(\"By Madison: \",nM)\n",
    "print(\"Disputed : \",nD)\n",
    "# This allows you to ignore certain common words in English\n",
    "# You may want to experiment by choosing the second option or your own\n",
    "# list of stop words, but be sure to keep 'HAMILTON' and 'MADISON' in\n",
    "# this list at a minimum, as their names appear in the text of the papers\n",
    "# and leaving them in could lead to unpredictable results\n",
    "stop_words = text.ENGLISH_STOP_WORDS.union({'HAMILTON','MADISON'})\n",
    "# stop_words = {'HAMILTON','MADISON'} # can comment out both and give..\n",
    "# stop_words\n",
    "## Form bag of words model using words used at least 10 times\n",
    "vectorizer = text.CountVectorizer(stop_words=stop_words,min_df=10)\n",
    "X = vectorizer.fit_transform(papersH+papersM+papersD).toarray()\n",
    "# print(vectorizer)\n",
    "# print(X)\n",
    "# print(X.shape)\n",
    "## using words used at least 10 times from all the documents\n",
    "# Uncomment this line to see the full list of words remaining after filtering out \n",
    "# stop words and words used less than min_df times\n",
    "# vectorizer.vocabulary_"
   ]
  },
  {
   "cell_type": "code",
   "execution_count": 18,
   "metadata": {},
   "outputs": [
    {
     "name": "stdout",
     "output_type": "stream",
     "text": [
      "(51, 1307)\n",
      "(17, 1307)\n",
      "(12, 1307)\n"
     ]
    }
   ],
   "source": [
    "# Split word counts into separate matrices\n",
    "XH, XM, XD = X[:nH,:], X[nH:nH+nM,:], X[nH+nM:,:]\n",
    "print(XH.shape)\n",
    "print(XM.shape)\n",
    "print(XD.shape)\n",
    "d = 1307 ##, the choices in the vocabulary, for Laplace smoothing\n",
    "fH = [0] * d\n",
    "fM = [0] * d\n",
    "Pm = [0] * d\n",
    "Ph = [0] * d"
   ]
  },
  {
   "cell_type": "code",
   "execution_count": 19,
   "metadata": {},
   "outputs": [
    {
     "name": "stdout",
     "output_type": "stream",
     "text": [
      "(1307,)\n",
      "(1307,)\n",
      "(1307,)\n"
     ]
    }
   ],
   "source": [
    "# Estimate probability of each word in vocabulary being used by Hamilton\n",
    "column_sumsa = [sum([row[i] for row in XH]) for i in range(0,len(XH[0]))]\n",
    "for i in range(0,len(column_sumsa)):\n",
    "    fH[i] = ((column_sumsa[i])+1)/(sum(column_sumsa)+d) # to make sure there's no division by zero.\n",
    "    \n",
    "# Estimate probability of each word in vocabulary being used by Madison\n",
    "column_sumsb = [sum([row[i] for row in XM]) for i in range(0,len(XM[0]))]\n",
    "for i in range(0,len(column_sumsb)):\n",
    "    fM[i] = ((column_sumsb[i])+1)/(sum(column_sumsb)+d) # to make sure there's no division by zero.\n",
    "    \n",
    "# Compute ratio of these probabilities\n",
    "fH = np.array(fH)\n",
    "fM = np.array(fM)\n",
    "fratio = fH/fM\n",
    "print(fratio.shape)\n",
    "print(fH.shape)\n",
    "print(fM.shape)"
   ]
  },
  {
   "cell_type": "code",
   "execution_count": 20,
   "metadata": {},
   "outputs": [
    {
     "name": "stdout",
     "output_type": "stream",
     "text": [
      "Hamilton prior probability:  0.75\n",
      "Madison prior probability:  0.25\n",
      "Likelihood Ratio for disputed document  1 :  8.24076739239e-17\n",
      "Madison\n",
      "Likelihood Ratio for disputed document  2 :  2.28472868133e-13\n",
      "Madison\n",
      "Likelihood Ratio for disputed document  3 :  3.32498959998e-43\n",
      "Madison\n",
      "Likelihood Ratio for disputed document  4 :  6.38529052403e-14\n",
      "Madison\n",
      "Likelihood Ratio for disputed document  5 :  40256674340.6\n",
      "Hamilton\n",
      "Likelihood Ratio for disputed document  6 :  6939.36582376\n",
      "Hamilton\n",
      "Likelihood Ratio for disputed document  7 :  4.67013870929e-10\n",
      "Madison\n",
      "Likelihood Ratio for disputed document  8 :  3.9693293703e+17\n",
      "Hamilton\n",
      "Likelihood Ratio for disputed document  9 :  1380849.24311\n",
      "Hamilton\n",
      "Likelihood Ratio for disputed document  10 :  6.80424307554e-13\n",
      "Madison\n",
      "Likelihood Ratio for disputed document  11 :  3.02279231828e-25\n",
      "Madison\n",
      "Likelihood Ratio for disputed document  12 :  1.87544658847e-19\n",
      "Madison\n",
      "\n",
      "**Final results: **\n",
      "No. of essays written by Hamilton, as predicted:  4\n",
      "No. of essays written by Madison, as predicted:  8\n"
     ]
    }
   ],
   "source": [
    "# Compute prior probabilities \n",
    "piH = 51/68\n",
    "print(\"Hamilton prior probability: \", piH)\n",
    "piM = 17/68 \n",
    "print(\"Madison prior probability: \", piM)\n",
    "H = 0\n",
    "M = 0\n",
    "l = 0\n",
    "## Laplace smoothing done before to make sure there's no division by zero. \n",
    "for xd in XD: # Iterate over disputed documents\n",
    "    # Compute likelihood ratio for Naive Bayes model\n",
    "    for i in range(0,len(xd)):\n",
    "        Ph[i] = fratio[i]**xd[i]\n",
    "    Ph = np.array(Ph)\n",
    "    PH = np.prod(Ph)\n",
    "    LR = (PH*piH)/(piM) \n",
    "    l +=1\n",
    "    print(\"Likelihood Ratio for disputed document \", l, \": \", LR)\n",
    "    if LR>0.5:\n",
    "        print('Hamilton')\n",
    "        H +=1\n",
    "    else:\n",
    "        print('Madison')\n",
    "        M +=1\n",
    "print(\"\")\n",
    "print(\"**Final results: **\")\n",
    "print(\"No. of essays written by Hamilton, as predicted: \",H)\n",
    "print(\"No. of essays written by Madison, as predicted: \",M)"
   ]
  },
  {
   "cell_type": "code",
   "execution_count": null,
   "metadata": {
    "collapsed": true
   },
   "outputs": [],
   "source": []
  }
 ],
 "metadata": {
  "kernelspec": {
   "display_name": "Python 3",
   "language": "python",
   "name": "python3"
  },
  "language_info": {
   "codemirror_mode": {
    "name": "ipython",
    "version": 3
   },
   "file_extension": ".py",
   "mimetype": "text/x-python",
   "name": "python",
   "nbconvert_exporter": "python",
   "pygments_lexer": "ipython3",
   "version": "3.6.3"
  }
 },
 "nbformat": 4,
 "nbformat_minor": 2
}
