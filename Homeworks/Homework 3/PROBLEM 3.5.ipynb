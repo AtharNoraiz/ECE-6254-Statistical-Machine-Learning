{
 "cells": [
  {
   "cell_type": "code",
   "execution_count": 37,
   "metadata": {},
   "outputs": [
    {
     "name": "stdout",
     "output_type": "stream",
     "text": [
      "(70000, 784)\n",
      "(70000,)\n"
     ]
    }
   ],
   "source": [
    "import numpy as np\n",
    "from sklearn.datasets import fetch_mldata\n",
    "from sklearn import metrics\n",
    "from sklearn.model_selection import train_test_split\n",
    "from sklearn import svm\n",
    "import matplotlib.pyplot as plt\n",
    "np.random.seed(2017)\n",
    "mnist = fetch_mldata('MNIST original')\n",
    "X = mnist.data\n",
    "y = mnist.target\n",
    "print(X.shape)\n",
    "print(y.shape)"
   ]
  },
  {
   "cell_type": "code",
   "execution_count": 38,
   "metadata": {},
   "outputs": [
    {
     "name": "stdout",
     "output_type": "stream",
     "text": [
      "(6824, 784)\n",
      "(6958, 784)\n"
     ]
    }
   ],
   "source": [
    "X4 = X[y==4,:]\n",
    "X9 = X[y==9,:]\n",
    "print(X4.shape)\n",
    "print(X9.shape)"
   ]
  },
  {
   "cell_type": "code",
   "execution_count": 39,
   "metadata": {},
   "outputs": [
    {
     "name": "stdout",
     "output_type": "stream",
     "text": [
      "(8000, 784)\n",
      "(8000,)\n",
      "(5782, 784)\n",
      "(5782,)\n"
     ]
    }
   ],
   "source": [
    "training_set = np.concatenate((X4[0:4000,:], X9[0:4000,:]), axis=0)\n",
    "print(training_set.shape)\n",
    "y4 = np.ones(4000)*4;\n",
    "y9 = np.ones(4000)*9;\n",
    "training_set_labels = np.concatenate((y4[0:4000], y9[0:4000]), axis=0)\n",
    "print(training_set_labels.shape)\n",
    "testing_set = np.concatenate((X4[4000:,:], X9[4000:,:]), axis=0)\n",
    "print(testing_set.shape)\n",
    "y4_test = np.ones(2824)*4;\n",
    "y9_test = np.ones(2958)*9;\n",
    "testing_set_labels = np.concatenate((y4_test[0:2824], y9_test[0:2958]), axis=0)\n",
    "print(testing_set_labels.shape)"
   ]
  },
  {
   "cell_type": "code",
   "execution_count": 40,
   "metadata": {},
   "outputs": [
    {
     "name": "stdout",
     "output_type": "stream",
     "text": [
      "Probability of error:  0.0310606060606 for C =  0.001\n",
      "Number of support vectors:  594\n",
      "Score:  0.968939393939\n",
      "Probability of error:  0.0363636363636 for C =  0.01\n",
      "Number of support vectors:  453\n",
      "Score:  0.963636363636\n",
      "Probability of error:  0.0443181818182 for C =  0.1\n",
      "Number of support vectors:  408\n",
      "Score:  0.955681818182\n",
      "Probability of error:  0.0537878787879 for C =  1.0\n",
      "Number of support vectors:  366\n",
      "Score:  0.946212121212\n",
      "Probability of error:  0.0496212121212 for C =  10.0\n",
      "Number of support vectors:  365\n",
      "Score:  0.950378787879\n",
      "Probability of error:  0.0507575757576 for C =  100.0\n",
      "Number of support vectors:  366\n",
      "Score:  0.949242424242\n",
      "Probability of error:  0.0522727272727 for C =  1000.0\n",
      "Number of support vectors:  348\n",
      "Score:  0.947727272727\n",
      "Probability of error:  0.0518939393939 for C =  10000.0\n",
      "Number of support vectors:  363\n",
      "Score:  0.948106060606\n",
      "Probability of error:  0.0481060606061 for C =  100000.0\n",
      "Number of support vectors:  367\n",
      "Score:  0.951893939394\n",
      "Probability of error:  0.0598484848485 for C =  1000000.0\n",
      "Number of support vectors:  366\n",
      "Score:  0.940151515152\n",
      "Probability of error:  0.0481060606061 for C =  10000000.0\n",
      "Number of support vectors:  374\n",
      "Score:  0.951893939394\n",
      "The best value of C:  0.001\n",
      "Number of support vectors for best classifier:  831\n",
      "Score:  0.967485299204\n",
      "Probability of error:  0.0325147007956\n"
     ]
    }
   ],
   "source": [
    "pe = []\n",
    "C_range = 10. ** np.arange(-3, 8)\n",
    "for C in C_range:\n",
    "    clf = svm.SVC(C, kernel='poly', degree = 1)\n",
    "    X_train, X_test, y_train, y_test = train_test_split(training_set, training_set_labels, test_size=0.33, random_state=np.random.randint(1,100))\n",
    "    clf.fit(X_train,y_train)\n",
    "    pee = 1 - clf.score(X_test, y_test)\n",
    "    pe.append(pee)\n",
    "    print(\"Probability of error: \", pee,\"for C = \", C)\n",
    "    print(\"Number of support vectors: \", (len(clf.support_vectors_)))\n",
    "    print(\"Score: \", clf.score(X_test, y_test))\n",
    "    \n",
    "print(\"The best value of C: \", C_range[pe.index(min(pe))])\n",
    "clf_new_1 = svm.SVC(C_range[pe.index(min(pe))], kernel='poly', degree = 1)\n",
    "clf_new_1.fit(training_set, training_set_labels)\n",
    "print(\"Number of support vectors for best classifier: \", (len(clf_new_1.support_vectors_)))\n",
    "print(\"Score: \", clf_new_1.score(testing_set, testing_set_labels))\n",
    "print(\"Probability of error: \", (1 - clf_new_1.score(testing_set, testing_set_labels)))"
   ]
  },
  {
   "cell_type": "code",
   "execution_count": 41,
   "metadata": {},
   "outputs": [
    {
     "name": "stdout",
     "output_type": "stream",
     "text": [
      "[2177 5455 4736 1612 3167 6290 6380 1995 7055 2735 2468 7953 5234 1333 6567\n",
      " 2356]\n"
     ]
    },
    {
     "data": {
      "image/png": "[encoded data removed]",
      "text/plain": [
       "<matplotlib.figure.Figure at 0x7ff59d977710>"
      ]
     },
     "metadata": {},
     "output_type": "display_data"
    }
   ],
   "source": [
    "'''\n",
    "## The below code takes the support vector that were misclassified as well as closest to the hyperplane. \n",
    "## But, since we need only the points that violate the margin, as they might be the hardest to classify...\n",
    "\n",
    "\n",
    "dec = clf_new_rbf.decision_function(testing_set) # is this only for the testing set? \n",
    "# neg is seen as 4, pos is seen as 9\n",
    "# Distance of the samples X to the separating hyperplane.\n",
    "four_outlier = []\n",
    "four_outlier_index = []\n",
    "nine_outlier = []\n",
    "nine_outlier_index = []\n",
    "for i in range(0,2824):\n",
    "    if (dec[i] > 0):\n",
    "        four_outlier.append(dec[i])\n",
    "        four_outlier_index.append(i)\n",
    "for i in range(2824,5782):\n",
    "    if (dec[i] < 0):\n",
    "        nine_outlier.append(dec[i])\n",
    "        nine_outlier_index.append(i)\n",
    "print(len(four_outlier))\n",
    "print(len(nine_outlier))\n",
    "nine_outlier = [abs(x) for x in nine_outlier]\n",
    "outlier_list = four_outlier + nine_outlier\n",
    "outlier_list_index = four_outlier_index + nine_outlier_index\n",
    "\n",
    "N = len(outlier_list)\n",
    "final_index = np.zeros(len(outlier_list_index))\n",
    "sortted = np.argsort(outlier_list)[:N] #[::-1] using -1 will reverse and do descending order. We only want the vectors\n",
    "# that are closest to the hyperplane. \n",
    "print(sortted)\n",
    "for i in range(0,len(outlier_list_index)):\n",
    "    final_index[i] = outlier_list_index[sortted[i]]\n",
    "final_index\n",
    "\n",
    "'''\n",
    "\n",
    "\n",
    "dec = clf_new_1.decision_function(training_set) # is this only for the testing set? \n",
    "dec = np.argsort(np.abs(dec))[:16]\n",
    "print(dec)\n",
    "j = 0\n",
    "f1, axarr1 = plt.subplots(4, 4)\n",
    "for i in range(0,4):\n",
    "    for ii in range(0,4):\n",
    "        a = int(dec[j])\n",
    "        j = j + 1\n",
    "        axarr1[i,ii].imshow((training_set[a]).reshape((28,28)), cmap='gray')\n",
    "        axarr1[i,ii].axis('off')\n",
    "        axarr1[i,ii].set_title('{label}'.format(label=int(training_set_labels[a])))\n",
    "        ...\n",
    "plt.show()"
   ]
  },
  {
   "cell_type": "code",
   "execution_count": 42,
   "metadata": {},
   "outputs": [
    {
     "name": "stdout",
     "output_type": "stream",
     "text": [
      "Probability of error:  0.0117424242424 for C =  0.001\n",
      "Number of support vectors:  536\n",
      "Score:  0.988257575758\n",
      "Probability of error:  0.00984848484848 for C =  0.01\n",
      "Number of support vectors:  570\n",
      "Score:  0.990151515152\n",
      "Probability of error:  0.0170454545455 for C =  0.1\n",
      "Number of support vectors:  542\n",
      "Score:  0.982954545455\n",
      "Probability of error:  0.0109848484848 for C =  1.0\n",
      "Number of support vectors:  544\n",
      "Score:  0.989015151515\n",
      "Probability of error:  0.0136363636364 for C =  10.0\n",
      "Number of support vectors:  560\n",
      "Score:  0.986363636364\n",
      "Probability of error:  0.0136363636364 for C =  100.0\n",
      "Number of support vectors:  560\n",
      "Score:  0.986363636364\n",
      "Probability of error:  0.0143939393939 for C =  1000.0\n",
      "Number of support vectors:  565\n",
      "Score:  0.985606060606\n",
      "Probability of error:  0.0109848484848 for C =  10000.0\n",
      "Number of support vectors:  541\n",
      "Score:  0.989015151515\n",
      "Probability of error:  0.0143939393939 for C =  100000.0\n",
      "Number of support vectors:  565\n",
      "Score:  0.985606060606\n",
      "Probability of error:  0.0128787878788 for C =  1000000.0\n",
      "Number of support vectors:  534\n",
      "Score:  0.987121212121\n",
      "Probability of error:  0.0106060606061 for C =  10000000.0\n",
      "Number of support vectors:  549\n",
      "Score:  0.989393939394\n",
      "The best value of C:  0.01\n",
      "Number of support vectors for best classifier:  675\n",
      "Score:  0.988931165687\n",
      "Probability of error:  0.0110688343134\n"
     ]
    }
   ],
   "source": [
    "pe = []\n",
    "C_range = 10. ** np.arange(-3, 8)\n",
    "for C in C_range:\n",
    "    clf = svm.SVC(C, kernel='poly', degree = 2)\n",
    "    X_train, X_test, y_train, y_test = train_test_split(training_set, training_set_labels, test_size=0.33, random_state=np.random.randint(1,100))\n",
    "    clf.fit(X_train,y_train)\n",
    "    pee = 1 - clf.score(X_test, y_test)\n",
    "    pe.append(pee)\n",
    "    print(\"Probability of error: \", pee,\"for C = \", C)\n",
    "    print(\"Number of support vectors: \", (len(clf.support_vectors_)))\n",
    "    print(\"Score: \", clf.score(X_test, y_test))\n",
    "    \n",
    "print(\"The best value of C: \", C_range[pe.index(min(pe))])\n",
    "clf_new_2 = svm.SVC(C_range[pe.index(min(pe))], kernel='poly', degree = 2)\n",
    "clf_new_2.fit(training_set, training_set_labels)\n",
    "print(\"Number of support vectors for best classifier: \", (len(clf_new_2.support_vectors_)))\n",
    "print(\"Score: \", clf_new_2.score(testing_set, testing_set_labels))\n",
    "print(\"Probability of error: \", (1 - clf_new_2.score(testing_set, testing_set_labels)))"
   ]
  },
  {
   "cell_type": "code",
   "execution_count": 43,
   "metadata": {},
   "outputs": [
    {
     "name": "stdout",
     "output_type": "stream",
     "text": [
      "[5990 4753 6674 4637 4812 7202 7593 7927 4586 4072 7580 4934 2946 1821 6123\n",
      " 6113]\n"
     ]
    },
    {
     "data": {
      "image/png": "[encoded data removed]",
      "text/plain": [
       "<matplotlib.figure.Figure at 0x7ff596102470>"
      ]
     },
     "metadata": {},
     "output_type": "display_data"
    }
   ],
   "source": [
    "dec = clf_new_2.decision_function(training_set) # is this only for the testing set? \n",
    "dec = np.argsort(np.abs(dec))[:16]\n",
    "print(dec)\n",
    "j = 0\n",
    "f1, axarr1 = plt.subplots(4, 4)\n",
    "for i in range(0,4):\n",
    "    for ii in range(0,4):\n",
    "        a = int(dec[j])\n",
    "        j = j + 1\n",
    "        axarr1[i,ii].imshow((training_set[a]).reshape((28,28)), cmap='gray')\n",
    "        axarr1[i,ii].axis('off')\n",
    "        axarr1[i,ii].set_title('{label}'.format(label=int(training_set_labels[a])))\n",
    "        ...\n",
    "plt.show()"
   ]
  },
  {
   "cell_type": "code",
   "execution_count": 44,
   "metadata": {},
   "outputs": [
    {
     "name": "stdout",
     "output_type": "stream",
     "text": [
      "Probability of error:  0.503787878788 for C =  0.1  and for gamma =  1e-09\n",
      "Number of support vectors:  5340\n",
      "Score:  0.496212121212\n",
      "Probability of error:  0.0814393939394 for C =  0.1  and for gamma =  1e-08\n",
      "Number of support vectors:  4388\n",
      "Score:  0.918560606061\n",
      "Probability of error:  0.032196969697 for C =  0.1  and for gamma =  1e-07\n",
      "Number of support vectors:  2204\n",
      "Score:  0.967803030303\n",
      "Best gamma:  1e-07  for C =  0.1\n",
      "Probability of error:  0.0719696969697 for C =  1.0  and for gamma =  1e-09\n",
      "Number of support vectors:  4348\n",
      "Score:  0.92803030303\n",
      "Probability of error:  0.0378787878788 for C =  1.0  and for gamma =  1e-08\n",
      "Number of support vectors:  1947\n",
      "Score:  0.962121212121\n",
      "Probability of error:  0.0242424242424 for C =  1.0  and for gamma =  1e-07\n",
      "Number of support vectors:  947\n",
      "Score:  0.975757575758\n",
      "Best gamma:  1e-07  for C =  1.0\n",
      "Probability of error:  0.0435606060606 for C =  10.0  and for gamma =  1e-09\n",
      "Number of support vectors:  1902\n",
      "Score:  0.956439393939\n",
      "Probability of error:  0.0306818181818 for C =  10.0  and for gamma =  1e-08\n",
      "Number of support vectors:  901\n",
      "Score:  0.969318181818\n",
      "Probability of error:  0.0113636363636 for C =  10.0  and for gamma =  1e-07\n",
      "Number of support vectors:  644\n",
      "Score:  0.988636363636\n",
      "Best gamma:  1e-07  for C =  10.0\n",
      "Probability of error:  0.0310606060606 for C =  100.0  and for gamma =  1e-09\n",
      "Number of support vectors:  913\n",
      "Score:  0.968939393939\n",
      "Probability of error:  0.025 for C =  100.0  and for gamma =  1e-08\n",
      "Number of support vectors:  579\n",
      "Score:  0.975\n",
      "Probability of error:  0.0136363636364 for C =  100.0  and for gamma =  1e-07\n",
      "Number of support vectors:  551\n",
      "Score:  0.986363636364\n",
      "Best gamma:  1e-07  for C =  100.0\n",
      "Probability of error:  0.0268939393939 for C =  1000.0  and for gamma =  1e-09\n",
      "Number of support vectors:  568\n",
      "Score:  0.973106060606\n",
      "Probability of error:  0.0231060606061 for C =  1000.0  and for gamma =  1e-08\n",
      "Number of support vectors:  453\n",
      "Score:  0.976893939394\n",
      "Probability of error:  0.0132575757576 for C =  1000.0  and for gamma =  1e-07\n",
      "Number of support vectors:  567\n",
      "Score:  0.986742424242\n",
      "Best gamma:  1e-07  for C =  1000.0\n",
      "The best pair of C and gamma:  10.0 1e-07\n",
      "Number of support vectors for best classifier:  765\n",
      "Score:  0.988239363542\n",
      "Probability of error:  0.011760636458\n"
     ]
    }
   ],
   "source": [
    "gamma_range = 10. ** np.arange(-9, -6)\n",
    "C_range = 10. ** np.arange(-1, 4)      \n",
    "#C_range = 10. ** np.arange(-1, 1)\n",
    "#gamma_range = 10. ** np.arange(-1, 1)\n",
    "pefinal = []\n",
    "gammalist = [] \n",
    "for C in C_range:\n",
    "    pe = []\n",
    "    for gamma in gamma_range: \n",
    "        clf = svm.SVC(C, kernel='rbf', gamma = gamma)\n",
    "        X_train, X_test, y_train, y_test = train_test_split(training_set, training_set_labels, test_size=0.33, random_state=np.random.randint(1,100))\n",
    "        clf.fit(X_train,y_train)\n",
    "        pee = 1 - clf.score(X_test, y_test)\n",
    "        pe.append(pee)\n",
    "        print(\"Probability of error: \", pee,\"for C = \", C, \" and for gamma = \", gamma)\n",
    "        print(\"Number of support vectors: \", (len(clf.support_vectors_)))\n",
    "        print(\"Score: \", clf.score(X_test, y_test))\n",
    "    gammalist.append(gamma_range[pe.index(min(pe))])\n",
    "    print(\"Best gamma: \", gamma_range[pe.index(min(pe))], \" for C = \", C)\n",
    "    pefinal.append(pe[pe.index(min(pe))])\n",
    "    \n",
    "print(\"The best pair of C and gamma: \", C_range[pefinal.index(min(pefinal))], gammalist[pefinal.index(min(pefinal))])\n",
    "clf_new_rbf = svm.SVC(C_range[pefinal.index(min(pefinal))], kernel='rbf', gamma = gammalist[pefinal.index(min(pefinal))])\n",
    "clf_new_rbf.fit(training_set, training_set_labels)\n",
    "print(\"Number of support vectors for best classifier: \", (len(clf_new_rbf.support_vectors_)))\n",
    "print(\"Score: \", clf_new_rbf.score(testing_set, testing_set_labels))\n",
    "print(\"Probability of error: \", (1 - clf_new_rbf.score(testing_set, testing_set_labels)))"
   ]
  },
  {
   "cell_type": "code",
   "execution_count": 45,
   "metadata": {},
   "outputs": [
    {
     "name": "stdout",
     "output_type": "stream",
     "text": [
      "[7533 4730 6431 1612 3417 6176 5454 3386 5470 6123 3161 7721 1859 2206 1504\n",
      " 1413]\n"
     ]
    },
    {
     "data": {
      "image/png": "[encoded data removed]",
      "text/plain": [
       "<matplotlib.figure.Figure at 0x7ff595a4ecf8>"
      ]
     },
     "metadata": {},
     "output_type": "display_data"
    }
   ],
   "source": [
    "dec = clf_new_rbf.decision_function(training_set) # is this only for the testing set? \n",
    "dec = np.argsort(np.abs(dec))[:16]\n",
    "print(dec)\n",
    "j = 0\n",
    "f1, axarr1 = plt.subplots(4, 4)\n",
    "for i in range(0,4):\n",
    "    for ii in range(0,4):\n",
    "        a = int(dec[j])\n",
    "        j = j + 1\n",
    "        axarr1[i,ii].imshow((training_set[a]).reshape((28,28)), cmap='gray')\n",
    "        axarr1[i,ii].axis('off')\n",
    "        axarr1[i,ii].set_title('{label}'.format(label=int(training_set_labels[a])))\n",
    "        ...\n",
    "plt.show()"
   ]
  }
 ],
 "metadata": {
  "kernelspec": {
   "display_name": "Python 3",
   "language": "python",
   "name": "python3"
  },
  "language_info": {
   "codemirror_mode": {
    "name": "ipython",
    "version": 3
   },
   "file_extension": ".py",
   "mimetype": "text/x-python",
   "name": "python",
   "nbconvert_exporter": "python",
   "pygments_lexer": "ipython3",
   "version": "3.6.3"
  }
 },
 "nbformat": 4,
 "nbformat_minor": 2
}
