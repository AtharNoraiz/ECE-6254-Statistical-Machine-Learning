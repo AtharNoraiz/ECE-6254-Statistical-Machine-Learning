{
 "cells": [
  {
   "cell_type": "code",
   "execution_count": 98,
   "metadata": {},
   "outputs": [],
   "source": [
    "import numpy as np\n",
    "from sklearn import model_selection as sms\n",
    "import matplotlib.pyplot as plt\n",
    "np.random.seed(2018)\n",
    "n = 100\n",
    "xtrain = np.random.rand(n)\n",
    "ytrain = 0.25 + 0.5*xtrain + np.sqrt(0.1)*np.random.randn(n)\n",
    "idx = np.random.randint(0,100,10)\n",
    "ytrain[idx] = ytrain[idx] + np.random.randn(10)\n",
    "\n",
    "X_train, X_val, y_train, y_val = sms.train_test_split(xtrain, ytrain, test_size=0.33, random_state=76)\n",
    "\n",
    "X_train = X_train.reshape(-1,1) # as specified in the question\n",
    "X_val = X_val.reshape(-1,1)\n",
    "xtrain = xtrain.reshape(-1,1)\n",
    "\n",
    "yb = np.mean(ytrain) # to calculate the intercept from the slope\n",
    "xb = np.mean(xtrain)"
   ]
  },
  {
   "cell_type": "code",
   "execution_count": 99,
   "metadata": {},
   "outputs": [
    {
     "name": "stdout",
     "output_type": "stream",
     "text": [
      "Validation scores are as follows: \n",
      "MSE for linear regression using lambda =  0.0001 is:  0.127828226975\n",
      "MSE for linear regression using lambda =  0.001 is:  0.127951690132\n",
      "MSE for linear regression using lambda =  0.01 is:  0.128343418317\n",
      "MSE for linear regression using lambda =  0.1 is:  0.129594639714\n",
      "MSE for linear regression using lambda =  1.0 is:  0.133659408019\n",
      "MSE for linear regression using lambda =  10.0 is:  0.147174012969\n",
      "MSE for linear regression using lambda =  100.0 is:  0.189541493075\n",
      "MSE for linear regression using lambda =  1000.0 is:  0.282489161873\n",
      "MSE for linear regression using lambda =  10000.0 is:  0.387152580671\n",
      "MSE for linear regression using lambda =  1000000.0 is:  0.474180874069\n",
      "The best lambda:  0.001\n",
      "Using Ridge regression, The slope is:  0.853749441218\n",
      "The intercept is:  0.0647156277696\n"
     ]
    }
   ],
   "source": [
    "# Ridge regression (lambda hyper parameter)\n",
    "print(\"Validation scores are as follows: \")\n",
    "lamset = np.array([0.0001, 0.001, 0.01, 0.1, 1, 10, 100, 1000, 10000, 1000000])\n",
    "for k in range(0,10):\n",
    "    theta = np.dot(np.dot(np.linalg.inv(np.dot(np.transpose(X_train),X_train) + np.sqrt(lamset[k])),np.transpose(X_train)),y_train)\n",
    "    y_pred = np.dot(X_val, theta)\n",
    "    MSE = ((np.linalg.norm(y_val - y_pred))**2)/len(y_pred)\n",
    "    print(\"MSE for linear regression using lambda = \", lamset[k], \"is: \",  MSE)\n",
    "print(\"The best lambda: \", 0.001)\n",
    "theta = np.dot(np.dot(np.linalg.inv(np.dot(np.transpose(xtrain),xtrain) + 0.001),np.transpose(xtrain)),ytrain)\n",
    "print(\"Using Ridge regression, The slope is: \", theta[0])\n",
    "print(\"The intercept is: \" ,yb - (xb*theta[0]))"
   ]
  },
  {
   "cell_type": "code",
   "execution_count": 100,
   "metadata": {},
   "outputs": [
    {
     "name": "stdout",
     "output_type": "stream",
     "text": [
      "Validation scores are as follows: \n",
      "The score:  0.221910197789 for epsilon =  1.1 alpha =  1e-07\n",
      "The score:  0.221910187828 for epsilon =  1.1 alpha =  1e-06\n",
      "The score:  0.221910088223 for epsilon =  1.1 alpha =  1e-05\n",
      "The score:  0.221909092174 for epsilon =  1.1 alpha =  0.0001\n",
      "The score:  0.221899132114 for epsilon =  1.1 alpha =  0.001\n",
      "The score:  0.221799577684 for epsilon =  1.1 alpha =  0.01\n",
      "The score:  0.220808227008 for epsilon =  1.1 alpha =  0.1\n",
      "The score:  0.209730233272 for epsilon =  1.1 alpha =  1.0\n",
      "The score:  0.13707129075 for epsilon =  1.1 alpha =  10.0\n",
      "The score:  0.0044014790649 for epsilon =  1.1 alpha =  100.0\n",
      "The score:  0.230401577375 for epsilon =  1.2 alpha =  1e-07\n",
      "The score:  0.230401567694 for epsilon =  1.2 alpha =  1e-06\n",
      "The score:  0.230401470882 for epsilon =  1.2 alpha =  1e-05\n",
      "The score:  0.230400502763 for epsilon =  1.2 alpha =  0.0001\n",
      "The score:  0.230390822053 for epsilon =  1.2 alpha =  0.001\n",
      "The score:  0.230294062998 for epsilon =  1.2 alpha =  0.01\n",
      "The score:  0.229331249688 for epsilon =  1.2 alpha =  0.1\n",
      "The score:  0.220132529517 for epsilon =  1.2 alpha =  1.0\n",
      "The score:  0.152805634627 for epsilon =  1.2 alpha =  10.0\n",
      "The score:  0.00139243050263 for epsilon =  1.2 alpha =  100.0\n",
      "The score:  0.231956512289 for epsilon =  1.25 alpha =  1e-07\n",
      "The score:  0.231956503801 for epsilon =  1.25 alpha =  1e-06\n",
      "The score:  0.231956418917 for epsilon =  1.25 alpha =  1e-05\n",
      "The score:  0.231955570079 for epsilon =  1.25 alpha =  0.0001\n",
      "The score:  0.231947081963 for epsilon =  1.25 alpha =  0.001\n",
      "The score:  0.231862226523 for epsilon =  1.25 alpha =  0.01\n",
      "The score:  0.231016240072 for epsilon =  1.25 alpha =  0.1\n",
      "The score:  0.222798386834 for epsilon =  1.25 alpha =  1.0\n",
      "The score:  0.151715907644 for epsilon =  1.25 alpha =  10.0\n",
      "The score:  -0.00252940923652 for epsilon =  1.25 alpha =  100.0\n",
      "The score:  0.192016453577 for epsilon =  1.5 alpha =  1e-07\n",
      "The score:  0.192016442756 for epsilon =  1.5 alpha =  1e-06\n",
      "The score:  0.192016334547 for epsilon =  1.5 alpha =  1e-05\n",
      "The score:  0.192015252462 for epsilon =  1.5 alpha =  0.0001\n",
      "The score:  0.192004431856 for epsilon =  1.5 alpha =  0.001\n",
      "The score:  0.191896250564 for epsilon =  1.5 alpha =  0.01\n",
      "The score:  0.190816787731 for epsilon =  1.5 alpha =  0.1\n",
      "The score:  0.180288978969 for epsilon =  1.5 alpha =  1.0\n",
      "The score:  0.110242209694 for epsilon =  1.5 alpha =  10.0\n",
      "The score:  -0.0200974582314 for epsilon =  1.5 alpha =  100.0\n",
      "The score:  0.173118234121 for epsilon =  1.75 alpha =  1e-07\n",
      "The score:  0.17311822411 for epsilon =  1.75 alpha =  1e-06\n",
      "The score:  0.173118123993 for epsilon =  1.75 alpha =  1e-05\n",
      "The score:  0.173117122826 for epsilon =  1.75 alpha =  0.0001\n",
      "The score:  0.173107111529 for epsilon =  1.75 alpha =  0.001\n",
      "The score:  0.173007035517 for epsilon =  1.75 alpha =  0.01\n",
      "The score:  0.172009959973 for epsilon =  1.75 alpha =  0.1\n",
      "The score:  0.162397090115 for epsilon =  1.75 alpha =  1.0\n",
      "The score:  0.0934310841731 for epsilon =  1.75 alpha =  10.0\n",
      "The score:  -0.0332266664185 for epsilon =  1.75 alpha =  100.0\n",
      "The score:  0.229877092752 for epsilon =  1.3 alpha =  1e-07\n",
      "The score:  0.229877084434 for epsilon =  1.3 alpha =  1e-06\n",
      "The score:  0.229877001252 for epsilon =  1.3 alpha =  1e-05\n",
      "The score:  0.229876169436 for epsilon =  1.3 alpha =  0.0001\n",
      "The score:  0.229867851393 for epsilon =  1.3 alpha =  0.001\n",
      "The score:  0.229784682126 for epsilon =  1.3 alpha =  0.01\n",
      "The score:  0.228954094184 for epsilon =  1.3 alpha =  0.1\n",
      "The score:  0.220678385305 for epsilon =  1.3 alpha =  1.0\n",
      "The score:  0.148562364854 for epsilon =  1.3 alpha =  10.0\n",
      "The score:  -0.00891504683266 for epsilon =  1.3 alpha =  100.0\n",
      "The score:  0.213752811382 for epsilon =  1.4 alpha =  1e-07\n",
      "The score:  0.213752801631 for epsilon =  1.4 alpha =  1e-06\n",
      "The score:  0.213752704125 for epsilon =  1.4 alpha =  1e-05\n",
      "The score:  0.213751729068 for epsilon =  1.4 alpha =  0.0001\n",
      "The score:  0.213741978608 for epsilon =  1.4 alpha =  0.001\n",
      "The score:  0.213644485533 for epsilon =  1.4 alpha =  0.01\n",
      "The score:  0.212670712839 for epsilon =  1.4 alpha =  0.1\n",
      "The score:  0.203180618627 for epsilon =  1.4 alpha =  1.0\n",
      "The score:  0.127096047521 for epsilon =  1.4 alpha =  10.0\n",
      "The score:  -0.0160385089934 for epsilon =  1.4 alpha =  100.0\n",
      "The score:  0.192016453577 for epsilon =  1.5 alpha =  1e-07\n",
      "The score:  0.192016442756 for epsilon =  1.5 alpha =  1e-06\n",
      "The score:  0.192016334547 for epsilon =  1.5 alpha =  1e-05\n",
      "The score:  0.192015252462 for epsilon =  1.5 alpha =  0.0001\n",
      "The score:  0.192004431856 for epsilon =  1.5 alpha =  0.001\n",
      "The score:  0.191896250564 for epsilon =  1.5 alpha =  0.01\n",
      "The score:  0.190816787731 for epsilon =  1.5 alpha =  0.1\n",
      "The score:  0.180288978969 for epsilon =  1.5 alpha =  1.0\n",
      "The score:  0.110242209694 for epsilon =  1.5 alpha =  10.0\n",
      "The score:  -0.0200974582314 for epsilon =  1.5 alpha =  100.0\n"
     ]
    }
   ],
   "source": [
    "# Using Huber loss (epsilon and alpha hyperparameters)\n",
    "from sklearn import linear_model\n",
    "X_train, X_val, y_train, y_val = sms.train_test_split(xtrain, ytrain, test_size=0.33, random_state=76)\n",
    "eps = np.array([1.1, 1.2, 1.25, 1.50, 1.75, 1.3, 1.4, 1.5, 1.6, 1.7, 1.8])\n",
    "alp = np.array([0.0000001, 0.000001, 0.00001, 0.0001, 0.001, 0.01, 0.1, 1, 10, 100])\n",
    "print(\"Validation scores are as follows: \")\n",
    "for k in range(0,8):\n",
    "    for j in range(0,10): \n",
    "        reg = linear_model.HuberRegressor(epsilon = eps[k], alpha=alp[j])\n",
    "        reg.fit(X_train,y_train)\n",
    "        scoree = reg.score(X_val, y_val)\n",
    "        print(\"The score: \", reg.score(X_val, y_val), \"for epsilon = \", eps[k], \"alpha = \", alp[j])"
   ]
  },
  {
   "cell_type": "code",
   "execution_count": 101,
   "metadata": {},
   "outputs": [
    {
     "name": "stdout",
     "output_type": "stream",
     "text": [
      "Using Huber loss, Slope:  0.523816794135 and Intercept:  0.24089946044 for the best model\n"
     ]
    }
   ],
   "source": [
    "# Best alpha = 10-7 and epsilon = 1.25 \n",
    "reg2 = linear_model.HuberRegressor(epsilon = 1.25, alpha=0.0000001)\n",
    "reg2.fit(xtrain,ytrain)\n",
    "print(\"Using Huber loss, Slope: \", reg2.coef_[0], \"and Intercept: \", reg2.intercept_, \"for the best model\")"
   ]
  },
  {
   "cell_type": "code",
   "execution_count": 102,
   "metadata": {},
   "outputs": [
    {
     "name": "stdout",
     "output_type": "stream",
     "text": [
      "Validation scores are as follows: \n",
      "The score:  -0.0415796481774 for epsilon =  0.001 C =  1e-06\n",
      "The score:  -0.0399196232595 for epsilon =  0.001 C =  1e-05\n",
      "The score:  -0.0550491997889 for epsilon =  0.001 C =  0.0001\n",
      "The score:  -0.0625412517522 for epsilon =  0.001 C =  0.001\n",
      "The score:  -0.106242784192 for epsilon =  0.001 C =  0.01\n",
      "The score:  -0.0628162683496 for epsilon =  0.001 C =  0.1\n",
      "The score:  -0.129822508637 for epsilon =  0.001 C =  1.0\n",
      "The score:  -0.0223067212647 for epsilon =  0.001 C =  10.0\n",
      "The score:  -0.0415384229249 for epsilon =  0.01 C =  1e-06\n",
      "The score:  -0.0398905041085 for epsilon =  0.01 C =  1e-05\n",
      "The score:  -0.0549946464896 for epsilon =  0.01 C =  0.0001\n",
      "The score:  -0.0625061197774 for epsilon =  0.01 C =  0.001\n",
      "The score:  -0.106202057799 for epsilon =  0.01 C =  0.01\n",
      "The score:  -0.0627955221743 for epsilon =  0.01 C =  0.1\n",
      "The score:  -0.129821770798 for epsilon =  0.01 C =  1.0\n",
      "The score:  -0.0223082536815 for epsilon =  0.01 C =  10.0\n",
      "The score:  -0.0411263104132 for epsilon =  0.1 C =  1e-06\n",
      "The score:  -0.0395994408192 for epsilon =  0.1 C =  1e-05\n",
      "The score:  -0.0544493388437 for epsilon =  0.1 C =  0.0001\n",
      "The score:  -0.062154902942 for epsilon =  0.1 C =  0.001\n",
      "The score:  -0.105794924784 for epsilon =  0.1 C =  0.01\n",
      "The score:  -0.0625880972014 for epsilon =  0.1 C =  0.1\n",
      "The score:  -0.129814405203 for epsilon =  0.1 C =  1.0\n",
      "The score:  -0.0223235780394 for epsilon =  0.1 C =  10.0\n",
      "The score:  -0.0370191866092 for epsilon =  0.2 C =  1e-06\n",
      "The score:  -0.0367016300597 for epsilon =  0.2 C =  1e-05\n",
      "The score:  -0.0490187970798 for epsilon =  0.2 C =  0.0001\n",
      "The score:  -0.0586530258143 for epsilon =  0.2 C =  0.001\n",
      "The score:  -0.101736686828 for epsilon =  0.2 C =  0.01\n",
      "The score:  -0.0605175254419 for epsilon =  0.2 C =  0.1\n",
      "The score:  -0.129742028908 for epsilon =  0.2 C =  1.0\n",
      "The score:  -0.0224768406217 for epsilon =  0.2 C =  10.0\n",
      "The score:  -0.00638733586035 for epsilon =  0.3 C =  1e-06\n",
      "The score:  -0.00861325152578 for epsilon =  0.3 C =  1e-05\n",
      "The score:  0.00349876684113 for epsilon =  0.3 C =  0.0001\n",
      "The score:  -0.0258289435323 for epsilon =  0.3 C =  0.001\n",
      "The score:  -0.0624635259166 for epsilon =  0.3 C =  0.01\n",
      "The score:  -0.0418450324285 for epsilon =  0.3 C =  0.1\n",
      "The score:  -0.12914623085 for epsilon =  0.3 C =  1.0\n",
      "The score:  -0.0240113667675 for epsilon =  0.3 C =  10.0\n",
      "The score:  0.108358692749 for epsilon =  0.4 C =  1e-06\n",
      "The score:  0.117194285425 for epsilon =  0.4 C =  1e-05\n",
      "The score:  0.143880605013 for epsilon =  0.4 C =  0.0001\n",
      "The score:  0.130450535954 for epsilon =  0.4 C =  0.001\n",
      "The score:  0.0208327191592 for epsilon =  0.4 C =  0.01\n",
      "The score:  0.0189300105092 for epsilon =  0.4 C =  0.1\n",
      "The score:  -0.11495274995 for epsilon =  0.4 C =  1.0\n",
      "The score:  -0.0395466605199 for epsilon =  0.4 C =  10.0\n",
      "The score:  0.203026955814 for epsilon =  0.5 C =  1e-06\n",
      "The score:  0.210826797629 for epsilon =  0.5 C =  1e-05\n",
      "The score:  0.205931593941 for epsilon =  0.5 C =  0.0001\n",
      "The score:  0.236880460588 for epsilon =  0.5 C =  0.001\n",
      "The score:  0.142009454424 for epsilon =  0.5 C =  0.01\n",
      "The score:  0.0355837336682 for epsilon =  0.5 C =  0.1\n",
      "The score:  -0.0731274435304 for epsilon =  0.5 C =  1.0\n",
      "The score:  -0.213902827475 for epsilon =  0.5 C =  10.0\n",
      "The score:  0.221691749298 for epsilon =  1.0 C =  1e-06\n",
      "The score:  0.211605598348 for epsilon =  1.0 C =  1e-05\n",
      "The score:  0.228928362644 for epsilon =  1.0 C =  0.0001\n",
      "The score:  0.246377894762 for epsilon =  1.0 C =  0.001\n",
      "The score:  0.142008883172 for epsilon =  1.0 C =  0.01\n",
      "The score:  0.0355846397761 for epsilon =  1.0 C =  0.1\n",
      "The score:  -0.0731266049205 for epsilon =  1.0 C =  1.0\n",
      "The score:  -0.338958823038 for epsilon =  1.0 C =  10.0\n"
     ]
    }
   ],
   "source": [
    "# Using SVR\n",
    "from sklearn.svm import SVR\n",
    "X_train, X_val, y_train, y_val = sms.train_test_split(xtrain, ytrain, test_size=0.33, random_state=76)\n",
    "eps = np.array([0.001, 0.01, 0.1, 0.2, 0.3, 0.4, 0.5, 1.0, 10, 100])\n",
    "C = np.array([0.000001, 0.00001, 0.0001, 0.001, 0.01, 0.1, 1, 10, 100, 1000])\n",
    "print(\"Validation scores are as follows: \")\n",
    "for k in range(0,8):\n",
    "    for j in range(0,8): \n",
    "        reg = SVR(C=C[k], epsilon=eps[j],kernel = 'linear')\n",
    "        reg.fit(X_train,y_train)\n",
    "        print(\"The score: \", reg.score(X_val, y_val), \"for epsilon = \", eps[k], \"C = \", C[j])"
   ]
  },
  {
   "cell_type": "code",
   "execution_count": 103,
   "metadata": {},
   "outputs": [
    {
     "name": "stdout",
     "output_type": "stream",
     "text": [
      "The slope using SVR:  [-0.0002004]\n",
      "The intercept using SVR:  0.51277886889\n"
     ]
    }
   ],
   "source": [
    "# Best epsilon = 1 and C = 0.001\n",
    "reg3 = SVR(C=0.001, epsilon=1, kernel='linear')\n",
    "reg3.fit(xtrain,ytrain)\n",
    "print(\"The slope using SVR: \", reg3.coef_[0])\n",
    "print(\"The intercept using SVR: \", reg3.intercept_[0])"
   ]
  },
  {
   "cell_type": "code",
   "execution_count": 104,
   "metadata": {},
   "outputs": [
    {
     "data": {
      "image/png": "[encoded data removed]",
      "text/plain": [
       "<matplotlib.figure.Figure at 0x7f360b2ada20>"
      ]
     },
     "metadata": {},
     "output_type": "display_data"
    }
   ],
   "source": [
    "plt.figure()\n",
    "plt.plot(xtrain, ytrain, 'rx') # scatter plot of all the data points \n",
    "plt.plot(xtrain, xtrain*theta[0] + inter1, 'r') # ridge regression line (red)\n",
    "plt.plot(xtrain, xtrain*reg2.coef_[0] + reg2.intercept_, 'b') # Huber loss line (blue)\n",
    "plt.plot(xtrain, xtrain*reg3.coef_[0] + reg3.intercept_, 'k') # SVR line (black)\n",
    "plt.show()"
   ]
  }
 ],
 "metadata": {
  "kernelspec": {
   "display_name": "Python 3",
   "language": "python",
   "name": "python3"
  },
  "language_info": {
   "codemirror_mode": {
    "name": "ipython",
    "version": 3
   },
   "file_extension": ".py",
   "mimetype": "text/x-python",
   "name": "python",
   "nbconvert_exporter": "python",
   "pygments_lexer": "ipython3",
   "version": "3.6.4"
  }
 },
 "nbformat": 4,
 "nbformat_minor": 2
}
